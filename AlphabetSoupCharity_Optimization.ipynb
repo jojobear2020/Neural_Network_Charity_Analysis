{
 "cells": [
  {
   "cell_type": "markdown",
   "metadata": {},
   "source": [
    "### Deliverable 1: Preprocessing the Data for a Neural Network"
   ]
  },
  {
   "cell_type": "code",
   "execution_count": 1,
   "metadata": {},
   "outputs": [
    {
     "data": {
      "text/html": [
       "<div>\n",
       "<style scoped>\n",
       "    .dataframe tbody tr th:only-of-type {\n",
       "        vertical-align: middle;\n",
       "    }\n",
       "\n",
       "    .dataframe tbody tr th {\n",
       "        vertical-align: top;\n",
       "    }\n",
       "\n",
       "    .dataframe thead th {\n",
       "        text-align: right;\n",
       "    }\n",
       "</style>\n",
       "<table border=\"1\" class=\"dataframe\">\n",
       "  <thead>\n",
       "    <tr style=\"text-align: right;\">\n",
       "      <th></th>\n",
       "      <th>EIN</th>\n",
       "      <th>NAME</th>\n",
       "      <th>APPLICATION_TYPE</th>\n",
       "      <th>AFFILIATION</th>\n",
       "      <th>CLASSIFICATION</th>\n",
       "      <th>USE_CASE</th>\n",
       "      <th>ORGANIZATION</th>\n",
       "      <th>STATUS</th>\n",
       "      <th>INCOME_AMT</th>\n",
       "      <th>SPECIAL_CONSIDERATIONS</th>\n",
       "      <th>ASK_AMT</th>\n",
       "      <th>IS_SUCCESSFUL</th>\n",
       "    </tr>\n",
       "  </thead>\n",
       "  <tbody>\n",
       "    <tr>\n",
       "      <th>0</th>\n",
       "      <td>10520599</td>\n",
       "      <td>BLUE KNIGHTS MOTORCYCLE CLUB</td>\n",
       "      <td>T10</td>\n",
       "      <td>Independent</td>\n",
       "      <td>C1000</td>\n",
       "      <td>ProductDev</td>\n",
       "      <td>Association</td>\n",
       "      <td>1</td>\n",
       "      <td>0</td>\n",
       "      <td>N</td>\n",
       "      <td>5000</td>\n",
       "      <td>1</td>\n",
       "    </tr>\n",
       "    <tr>\n",
       "      <th>1</th>\n",
       "      <td>10531628</td>\n",
       "      <td>AMERICAN CHESAPEAKE CLUB CHARITABLE TR</td>\n",
       "      <td>T3</td>\n",
       "      <td>Independent</td>\n",
       "      <td>C2000</td>\n",
       "      <td>Preservation</td>\n",
       "      <td>Co-operative</td>\n",
       "      <td>1</td>\n",
       "      <td>1-9999</td>\n",
       "      <td>N</td>\n",
       "      <td>108590</td>\n",
       "      <td>1</td>\n",
       "    </tr>\n",
       "    <tr>\n",
       "      <th>2</th>\n",
       "      <td>10547893</td>\n",
       "      <td>ST CLOUD PROFESSIONAL FIREFIGHTERS</td>\n",
       "      <td>T5</td>\n",
       "      <td>CompanySponsored</td>\n",
       "      <td>C3000</td>\n",
       "      <td>ProductDev</td>\n",
       "      <td>Association</td>\n",
       "      <td>1</td>\n",
       "      <td>0</td>\n",
       "      <td>N</td>\n",
       "      <td>5000</td>\n",
       "      <td>0</td>\n",
       "    </tr>\n",
       "    <tr>\n",
       "      <th>3</th>\n",
       "      <td>10553066</td>\n",
       "      <td>SOUTHSIDE ATHLETIC ASSOCIATION</td>\n",
       "      <td>T3</td>\n",
       "      <td>CompanySponsored</td>\n",
       "      <td>C2000</td>\n",
       "      <td>Preservation</td>\n",
       "      <td>Trust</td>\n",
       "      <td>1</td>\n",
       "      <td>10000-24999</td>\n",
       "      <td>N</td>\n",
       "      <td>6692</td>\n",
       "      <td>1</td>\n",
       "    </tr>\n",
       "    <tr>\n",
       "      <th>4</th>\n",
       "      <td>10556103</td>\n",
       "      <td>GENETIC RESEARCH INSTITUTE OF THE DESERT</td>\n",
       "      <td>T3</td>\n",
       "      <td>Independent</td>\n",
       "      <td>C1000</td>\n",
       "      <td>Heathcare</td>\n",
       "      <td>Trust</td>\n",
       "      <td>1</td>\n",
       "      <td>100000-499999</td>\n",
       "      <td>N</td>\n",
       "      <td>142590</td>\n",
       "      <td>1</td>\n",
       "    </tr>\n",
       "  </tbody>\n",
       "</table>\n",
       "</div>"
      ],
      "text/plain": [
       "        EIN                                      NAME APPLICATION_TYPE  \\\n",
       "0  10520599              BLUE KNIGHTS MOTORCYCLE CLUB              T10   \n",
       "1  10531628    AMERICAN CHESAPEAKE CLUB CHARITABLE TR               T3   \n",
       "2  10547893        ST CLOUD PROFESSIONAL FIREFIGHTERS               T5   \n",
       "3  10553066            SOUTHSIDE ATHLETIC ASSOCIATION               T3   \n",
       "4  10556103  GENETIC RESEARCH INSTITUTE OF THE DESERT               T3   \n",
       "\n",
       "        AFFILIATION CLASSIFICATION      USE_CASE  ORGANIZATION  STATUS  \\\n",
       "0       Independent          C1000    ProductDev   Association       1   \n",
       "1       Independent          C2000  Preservation  Co-operative       1   \n",
       "2  CompanySponsored          C3000    ProductDev   Association       1   \n",
       "3  CompanySponsored          C2000  Preservation         Trust       1   \n",
       "4       Independent          C1000     Heathcare         Trust       1   \n",
       "\n",
       "      INCOME_AMT SPECIAL_CONSIDERATIONS  ASK_AMT  IS_SUCCESSFUL  \n",
       "0              0                      N     5000              1  \n",
       "1         1-9999                      N   108590              1  \n",
       "2              0                      N     5000              0  \n",
       "3    10000-24999                      N     6692              1  \n",
       "4  100000-499999                      N   142590              1  "
      ]
     },
     "execution_count": 1,
     "metadata": {},
     "output_type": "execute_result"
    }
   ],
   "source": [
    "# Import our dependencies\n",
    "from sklearn.model_selection import train_test_split\n",
    "from sklearn.preprocessing import StandardScaler,OneHotEncoder\n",
    "import pandas as pd\n",
    "import tensorflow as tf\n",
    "\n",
    "#  Import and read the charity_data.csv.\n",
    "application_df = pd.read_csv(\"Resources/charity_data.csv\")\n",
    "application_df.head()"
   ]
  },
  {
   "cell_type": "code",
   "execution_count": 2,
   "metadata": {},
   "outputs": [
    {
     "data": {
      "text/plain": [
       "EIN                       34299\n",
       "NAME                      19568\n",
       "APPLICATION_TYPE             17\n",
       "AFFILIATION                   6\n",
       "CLASSIFICATION               71\n",
       "USE_CASE                      5\n",
       "ORGANIZATION                  4\n",
       "STATUS                        2\n",
       "INCOME_AMT                    9\n",
       "SPECIAL_CONSIDERATIONS        2\n",
       "ASK_AMT                    8747\n",
       "IS_SUCCESSFUL                 2\n",
       "dtype: int64"
      ]
     },
     "execution_count": 2,
     "metadata": {},
     "output_type": "execute_result"
    }
   ],
   "source": [
    "# Determine the number of unique values in each column in the original dataframe.\n",
    "application_df.nunique()"
   ]
  },
  {
   "cell_type": "code",
   "execution_count": 3,
   "metadata": {},
   "outputs": [
    {
     "name": "stdout",
     "output_type": "stream",
     "text": [
      "(34299, 11)\n"
     ]
    },
    {
     "data": {
      "text/html": [
       "<div>\n",
       "<style scoped>\n",
       "    .dataframe tbody tr th:only-of-type {\n",
       "        vertical-align: middle;\n",
       "    }\n",
       "\n",
       "    .dataframe tbody tr th {\n",
       "        vertical-align: top;\n",
       "    }\n",
       "\n",
       "    .dataframe thead th {\n",
       "        text-align: right;\n",
       "    }\n",
       "</style>\n",
       "<table border=\"1\" class=\"dataframe\">\n",
       "  <thead>\n",
       "    <tr style=\"text-align: right;\">\n",
       "      <th></th>\n",
       "      <th>NAME</th>\n",
       "      <th>APPLICATION_TYPE</th>\n",
       "      <th>AFFILIATION</th>\n",
       "      <th>CLASSIFICATION</th>\n",
       "      <th>USE_CASE</th>\n",
       "      <th>ORGANIZATION</th>\n",
       "      <th>STATUS</th>\n",
       "      <th>INCOME_AMT</th>\n",
       "      <th>SPECIAL_CONSIDERATIONS</th>\n",
       "      <th>ASK_AMT</th>\n",
       "      <th>IS_SUCCESSFUL</th>\n",
       "    </tr>\n",
       "  </thead>\n",
       "  <tbody>\n",
       "    <tr>\n",
       "      <th>0</th>\n",
       "      <td>BLUE KNIGHTS MOTORCYCLE CLUB</td>\n",
       "      <td>T10</td>\n",
       "      <td>Independent</td>\n",
       "      <td>C1000</td>\n",
       "      <td>ProductDev</td>\n",
       "      <td>Association</td>\n",
       "      <td>1</td>\n",
       "      <td>0</td>\n",
       "      <td>N</td>\n",
       "      <td>5000</td>\n",
       "      <td>1</td>\n",
       "    </tr>\n",
       "    <tr>\n",
       "      <th>1</th>\n",
       "      <td>AMERICAN CHESAPEAKE CLUB CHARITABLE TR</td>\n",
       "      <td>T3</td>\n",
       "      <td>Independent</td>\n",
       "      <td>C2000</td>\n",
       "      <td>Preservation</td>\n",
       "      <td>Co-operative</td>\n",
       "      <td>1</td>\n",
       "      <td>1-9999</td>\n",
       "      <td>N</td>\n",
       "      <td>108590</td>\n",
       "      <td>1</td>\n",
       "    </tr>\n",
       "    <tr>\n",
       "      <th>2</th>\n",
       "      <td>ST CLOUD PROFESSIONAL FIREFIGHTERS</td>\n",
       "      <td>T5</td>\n",
       "      <td>CompanySponsored</td>\n",
       "      <td>C3000</td>\n",
       "      <td>ProductDev</td>\n",
       "      <td>Association</td>\n",
       "      <td>1</td>\n",
       "      <td>0</td>\n",
       "      <td>N</td>\n",
       "      <td>5000</td>\n",
       "      <td>0</td>\n",
       "    </tr>\n",
       "    <tr>\n",
       "      <th>3</th>\n",
       "      <td>SOUTHSIDE ATHLETIC ASSOCIATION</td>\n",
       "      <td>T3</td>\n",
       "      <td>CompanySponsored</td>\n",
       "      <td>C2000</td>\n",
       "      <td>Preservation</td>\n",
       "      <td>Trust</td>\n",
       "      <td>1</td>\n",
       "      <td>10000-24999</td>\n",
       "      <td>N</td>\n",
       "      <td>6692</td>\n",
       "      <td>1</td>\n",
       "    </tr>\n",
       "    <tr>\n",
       "      <th>4</th>\n",
       "      <td>GENETIC RESEARCH INSTITUTE OF THE DESERT</td>\n",
       "      <td>T3</td>\n",
       "      <td>Independent</td>\n",
       "      <td>C1000</td>\n",
       "      <td>Heathcare</td>\n",
       "      <td>Trust</td>\n",
       "      <td>1</td>\n",
       "      <td>100000-499999</td>\n",
       "      <td>N</td>\n",
       "      <td>142590</td>\n",
       "      <td>1</td>\n",
       "    </tr>\n",
       "    <tr>\n",
       "      <th>5</th>\n",
       "      <td>MINORITY ORGAN &amp; TISSUE TRANSPLANT &amp; EDUCATION...</td>\n",
       "      <td>T3</td>\n",
       "      <td>Independent</td>\n",
       "      <td>C1200</td>\n",
       "      <td>Preservation</td>\n",
       "      <td>Trust</td>\n",
       "      <td>1</td>\n",
       "      <td>0</td>\n",
       "      <td>N</td>\n",
       "      <td>5000</td>\n",
       "      <td>1</td>\n",
       "    </tr>\n",
       "    <tr>\n",
       "      <th>6</th>\n",
       "      <td>FRIENDS OF ARTS COUNCIL OF GREATER DENHAM SPRI...</td>\n",
       "      <td>T3</td>\n",
       "      <td>Independent</td>\n",
       "      <td>C1000</td>\n",
       "      <td>Preservation</td>\n",
       "      <td>Trust</td>\n",
       "      <td>1</td>\n",
       "      <td>100000-499999</td>\n",
       "      <td>N</td>\n",
       "      <td>31452</td>\n",
       "      <td>1</td>\n",
       "    </tr>\n",
       "    <tr>\n",
       "      <th>7</th>\n",
       "      <td>ISRAEL EMERGENCY ALLIANCE</td>\n",
       "      <td>T3</td>\n",
       "      <td>Independent</td>\n",
       "      <td>C2000</td>\n",
       "      <td>Preservation</td>\n",
       "      <td>Trust</td>\n",
       "      <td>1</td>\n",
       "      <td>10M-50M</td>\n",
       "      <td>N</td>\n",
       "      <td>7508025</td>\n",
       "      <td>1</td>\n",
       "    </tr>\n",
       "    <tr>\n",
       "      <th>8</th>\n",
       "      <td>ARAMCO BRATS INC</td>\n",
       "      <td>T7</td>\n",
       "      <td>Independent</td>\n",
       "      <td>C1000</td>\n",
       "      <td>ProductDev</td>\n",
       "      <td>Trust</td>\n",
       "      <td>1</td>\n",
       "      <td>1-9999</td>\n",
       "      <td>N</td>\n",
       "      <td>94389</td>\n",
       "      <td>1</td>\n",
       "    </tr>\n",
       "    <tr>\n",
       "      <th>9</th>\n",
       "      <td>INTERNATIONAL ASSOCIATION OF FIRE FIGHTERS</td>\n",
       "      <td>T5</td>\n",
       "      <td>CompanySponsored</td>\n",
       "      <td>C3000</td>\n",
       "      <td>ProductDev</td>\n",
       "      <td>Association</td>\n",
       "      <td>1</td>\n",
       "      <td>0</td>\n",
       "      <td>N</td>\n",
       "      <td>5000</td>\n",
       "      <td>0</td>\n",
       "    </tr>\n",
       "  </tbody>\n",
       "</table>\n",
       "</div>"
      ],
      "text/plain": [
       "                                                NAME APPLICATION_TYPE  \\\n",
       "0                       BLUE KNIGHTS MOTORCYCLE CLUB              T10   \n",
       "1             AMERICAN CHESAPEAKE CLUB CHARITABLE TR               T3   \n",
       "2                 ST CLOUD PROFESSIONAL FIREFIGHTERS               T5   \n",
       "3                     SOUTHSIDE ATHLETIC ASSOCIATION               T3   \n",
       "4           GENETIC RESEARCH INSTITUTE OF THE DESERT               T3   \n",
       "5  MINORITY ORGAN & TISSUE TRANSPLANT & EDUCATION...               T3   \n",
       "6  FRIENDS OF ARTS COUNCIL OF GREATER DENHAM SPRI...               T3   \n",
       "7                          ISRAEL EMERGENCY ALLIANCE               T3   \n",
       "8                                   ARAMCO BRATS INC               T7   \n",
       "9         INTERNATIONAL ASSOCIATION OF FIRE FIGHTERS               T5   \n",
       "\n",
       "        AFFILIATION CLASSIFICATION      USE_CASE  ORGANIZATION  STATUS  \\\n",
       "0       Independent          C1000    ProductDev   Association       1   \n",
       "1       Independent          C2000  Preservation  Co-operative       1   \n",
       "2  CompanySponsored          C3000    ProductDev   Association       1   \n",
       "3  CompanySponsored          C2000  Preservation         Trust       1   \n",
       "4       Independent          C1000     Heathcare         Trust       1   \n",
       "5       Independent          C1200  Preservation         Trust       1   \n",
       "6       Independent          C1000  Preservation         Trust       1   \n",
       "7       Independent          C2000  Preservation         Trust       1   \n",
       "8       Independent          C1000    ProductDev         Trust       1   \n",
       "9  CompanySponsored          C3000    ProductDev   Association       1   \n",
       "\n",
       "      INCOME_AMT SPECIAL_CONSIDERATIONS  ASK_AMT  IS_SUCCESSFUL  \n",
       "0              0                      N     5000              1  \n",
       "1         1-9999                      N   108590              1  \n",
       "2              0                      N     5000              0  \n",
       "3    10000-24999                      N     6692              1  \n",
       "4  100000-499999                      N   142590              1  \n",
       "5              0                      N     5000              1  \n",
       "6  100000-499999                      N    31452              1  \n",
       "7        10M-50M                      N  7508025              1  \n",
       "8         1-9999                      N    94389              1  \n",
       "9              0                      N     5000              0  "
      ]
     },
     "execution_count": 3,
     "metadata": {},
     "output_type": "execute_result"
    }
   ],
   "source": [
    "# Drop the non-beneficial ID columns'EIN' column, but KEEP NAME\n",
    "application_df = application_df.drop(columns = [\"EIN\"])\n",
    "print(application_df.shape)\n",
    "application_df.head(10)"
   ]
  },
  {
   "cell_type": "code",
   "execution_count": 4,
   "metadata": {},
   "outputs": [
    {
     "data": {
      "text/plain": [
       "NAME                      19568\n",
       "APPLICATION_TYPE             17\n",
       "AFFILIATION                   6\n",
       "CLASSIFICATION               71\n",
       "USE_CASE                      5\n",
       "ORGANIZATION                  4\n",
       "STATUS                        2\n",
       "INCOME_AMT                    9\n",
       "SPECIAL_CONSIDERATIONS        2\n",
       "ASK_AMT                    8747\n",
       "IS_SUCCESSFUL                 2\n",
       "dtype: int64"
      ]
     },
     "execution_count": 4,
     "metadata": {},
     "output_type": "execute_result"
    }
   ],
   "source": [
    "# Determine the number of unique values in each column.\n",
    "application_df.nunique()"
   ]
  },
  {
   "cell_type": "code",
   "execution_count": 5,
   "metadata": {},
   "outputs": [
    {
     "data": {
      "text/plain": [
       "T3     27037\n",
       "T4      1542\n",
       "T6      1216\n",
       "T5      1173\n",
       "T19     1065\n",
       "T8       737\n",
       "T7       725\n",
       "T10      528\n",
       "T9       156\n",
       "T13       66\n",
       "T12       27\n",
       "T2        16\n",
       "T14        3\n",
       "T25        3\n",
       "T29        2\n",
       "T15        2\n",
       "T17        1\n",
       "Name: APPLICATION_TYPE, dtype: int64"
      ]
     },
     "execution_count": 5,
     "metadata": {},
     "output_type": "execute_result"
    }
   ],
   "source": [
    "# # Look at APPLICATION_TYPE value counts for binning\n",
    "app_type_count = application_df.APPLICATION_TYPE.value_counts()\n",
    "app_type_count"
   ]
  },
  {
   "cell_type": "code",
   "execution_count": 6,
   "metadata": {},
   "outputs": [
    {
     "data": {
      "text/plain": [
       "<matplotlib.axes._subplots.AxesSubplot at 0x2644a847688>"
      ]
     },
     "execution_count": 6,
     "metadata": {},
     "output_type": "execute_result"
    },
    {
     "data": {
      "image/png": "[encoded data removed]",
      "text/plain": [
       "<Figure size 432x288 with 1 Axes>"
      ]
     },
     "metadata": {
      "needs_background": "light"
     },
     "output_type": "display_data"
    }
   ],
   "source": [
    "#Visualize the value counts of APPLICATION_TYPE\n",
    "app_type_count.plot.density()"
   ]
  },
  {
   "cell_type": "code",
   "execution_count": 7,
   "metadata": {},
   "outputs": [
    {
     "data": {
      "text/plain": [
       "T3       27037\n",
       "T4        1542\n",
       "T6        1216\n",
       "T5        1173\n",
       "T19       1065\n",
       "T8         737\n",
       "T7         725\n",
       "T10        528\n",
       "Other      276\n",
       "Name: APPLICATION_TYPE, dtype: int64"
      ]
     },
     "execution_count": 7,
     "metadata": {},
     "output_type": "execute_result"
    }
   ],
   "source": [
    "# Determine which values to replace if counts are less than ...?\n",
    "# # use 500\n",
    "replace_application = list(app_type_count[app_type_count <500].index)\n",
    "\n",
    "# # Replace in dataframe\n",
    "for app in replace_application:\n",
    "    application_df.APPLICATION_TYPE = application_df.APPLICATION_TYPE.replace(app,\"Other\")\n",
    "    \n",
    "# # Check to make sure binning was successful\n",
    "application_df.APPLICATION_TYPE.value_counts()"
   ]
  },
  {
   "cell_type": "code",
   "execution_count": 8,
   "metadata": {},
   "outputs": [
    {
     "name": "stdout",
     "output_type": "stream",
     "text": [
      "71\n",
      "C1000    17326\n",
      "C2000     6074\n",
      "C1200     4837\n",
      "C3000     1918\n",
      "C2100     1883\n",
      "         ...  \n",
      "C1370        1\n",
      "C4500        1\n",
      "C1248        1\n",
      "C1732        1\n",
      "C4200        1\n",
      "Name: CLASSIFICATION, Length: 71, dtype: int64\n"
     ]
    }
   ],
   "source": [
    "# # Look at CLASSIFICATION value counts for binning\n",
    "unique_class = application_df.CLASSIFICATION.nunique()\n",
    "class_count = application_df.CLASSIFICATION.value_counts()\n",
    "print(unique_class)\n",
    "print(class_count)"
   ]
  },
  {
   "cell_type": "code",
   "execution_count": 9,
   "metadata": {},
   "outputs": [
    {
     "data": {
      "text/plain": [
       "<matplotlib.axes._subplots.AxesSubplot at 0x2644a82d688>"
      ]
     },
     "execution_count": 9,
     "metadata": {},
     "output_type": "execute_result"
    },
    {
     "data": {
      "image/png": "[encoded data removed]",
      "text/plain": [
       "<Figure size 432x288 with 1 Axes>"
      ]
     },
     "metadata": {
      "needs_background": "light"
     },
     "output_type": "display_data"
    }
   ],
   "source": [
    "# # Visualize the value counts of CLASSIFICATION\n",
    "class_count.plot.density()"
   ]
  },
  {
   "cell_type": "code",
   "execution_count": 10,
   "metadata": {},
   "outputs": [
    {
     "data": {
      "text/plain": [
       "C1000    17326\n",
       "C2000     6074\n",
       "C1200     4837\n",
       "C3000     1918\n",
       "C2100     1883\n",
       "Other     1484\n",
       "C7000      777\n",
       "Name: CLASSIFICATION, dtype: int64"
      ]
     },
     "execution_count": 10,
     "metadata": {},
     "output_type": "execute_result"
    }
   ],
   "source": [
    "# # Determine which values to replace if counts are less than ..?\n",
    "# # use 1000 for fewer bins\n",
    "replace_class = list(class_count[class_count < 500].index)\n",
    "\n",
    "# # Replace in dataframe\n",
    "for cls in replace_class:\n",
    "    application_df.CLASSIFICATION = application_df.CLASSIFICATION.replace(cls,\"Other\")\n",
    "    \n",
    "# # Check to make sure binning was successful\n",
    "application_df.CLASSIFICATION.value_counts()"
   ]
  },
  {
   "cell_type": "code",
   "execution_count": 11,
   "metadata": {},
   "outputs": [
    {
     "name": "stdout",
     "output_type": "stream",
     "text": [
      "Independent         18480\n",
      "CompanySponsored    15705\n",
      "Family/Parent          64\n",
      "National               33\n",
      "Regional               13\n",
      "Other                   4\n",
      "Name: AFFILIATION, dtype: int64\n"
     ]
    },
    {
     "data": {
      "text/plain": [
       "<matplotlib.axes._subplots.AxesSubplot at 0x2644b09f5c8>"
      ]
     },
     "execution_count": 11,
     "metadata": {},
     "output_type": "execute_result"
    },
    {
     "data": {
      "image/png": "[encoded data removed]",
      "text/plain": [
       "<Figure size 432x288 with 1 Axes>"
      ]
     },
     "metadata": {
      "needs_background": "light"
     },
     "output_type": "display_data"
    }
   ],
   "source": [
    "# check affiliation\n",
    "affiliation_count = application_df.AFFILIATION.value_counts()\n",
    "print(affiliation_count)\n",
    "# Visualize the value counts of AFFILIATION\n",
    "affiliation_count.plot.density()"
   ]
  },
  {
   "cell_type": "code",
   "execution_count": 12,
   "metadata": {},
   "outputs": [
    {
     "name": "stdout",
     "output_type": "stream",
     "text": [
      "Preservation     28095\n",
      "ProductDev        5671\n",
      "CommunityServ      384\n",
      "Heathcare          146\n",
      "Other                3\n",
      "Name: USE_CASE, dtype: int64\n"
     ]
    },
    {
     "data": {
      "text/plain": [
       "<matplotlib.axes._subplots.AxesSubplot at 0x2644b0ebd48>"
      ]
     },
     "execution_count": 12,
     "metadata": {},
     "output_type": "execute_result"
    },
    {
     "data": {
      "image/png": "[encoded data removed]",
      "text/plain": [
       "<Figure size 432x288 with 1 Axes>"
      ]
     },
     "metadata": {
      "needs_background": "light"
     },
     "output_type": "display_data"
    }
   ],
   "source": [
    "use_case_count = application_df.USE_CASE.value_counts()\n",
    "print(use_case_count)\n",
    "# Visualize the value counts of USE_CASE\n",
    "use_case_count.plot.density()"
   ]
  },
  {
   "cell_type": "code",
   "execution_count": 13,
   "metadata": {},
   "outputs": [
    {
     "name": "stdout",
     "output_type": "stream",
     "text": [
      "0                24388\n",
      "25000-99999       3747\n",
      "100000-499999     3374\n",
      "1M-5M              955\n",
      "1-9999             728\n",
      "10000-24999        543\n",
      "10M-50M            240\n",
      "5M-10M             185\n",
      "50M+               139\n",
      "Name: INCOME_AMT, dtype: int64\n"
     ]
    },
    {
     "data": {
      "text/plain": [
       "<matplotlib.axes._subplots.AxesSubplot at 0x2644b169e08>"
      ]
     },
     "execution_count": 13,
     "metadata": {},
     "output_type": "execute_result"
    },
    {
     "data": {
      "image/png": "[encoded data removed]",
      "text/plain": [
       "<Figure size 432x288 with 1 Axes>"
      ]
     },
     "metadata": {
      "needs_background": "light"
     },
     "output_type": "display_data"
    }
   ],
   "source": [
    "# check INCOME_AMT\n",
    "income_amt_count = application_df.INCOME_AMT.value_counts()\n",
    "print(income_amt_count)\n",
    "income_amt_count.plot.density()"
   ]
  },
  {
   "cell_type": "code",
   "execution_count": 14,
   "metadata": {},
   "outputs": [
    {
     "name": "stdout",
     "output_type": "stream",
     "text": [
      "N    34272\n",
      "Y       27\n",
      "Name: SPECIAL_CONSIDERATIONS, dtype: int64\n"
     ]
    },
    {
     "data": {
      "text/plain": [
       "<matplotlib.axes._subplots.AxesSubplot at 0x2644b1ccdc8>"
      ]
     },
     "execution_count": 14,
     "metadata": {},
     "output_type": "execute_result"
    },
    {
     "data": {
      "image/png": "[encoded data removed]",
      "text/plain": [
       "<Figure size 432x288 with 1 Axes>"
      ]
     },
     "metadata": {
      "needs_background": "light"
     },
     "output_type": "display_data"
    }
   ],
   "source": [
    "# check INCOME_AMT\n",
    "special_cons_count = application_df.SPECIAL_CONSIDERATIONS.value_counts()\n",
    "print(special_cons_count)\n",
    "special_cons_count.plot.density()"
   ]
  },
  {
   "cell_type": "code",
   "execution_count": 15,
   "metadata": {},
   "outputs": [
    {
     "data": {
      "text/plain": [
       "PARENT BOOSTER USA INC                             1260\n",
       "TOPS CLUB INC                                       765\n",
       "UNITED STATES BOWLING CONGRESS INC                  700\n",
       "WASHINGTON STATE UNIVERSITY                         492\n",
       "AMATEUR ATHLETIC UNION OF THE UNITED STATES INC     408\n",
       "                                                   ... \n",
       "ROSS SCHOOL PARENT TEACHER ORGANIZATION               1\n",
       "BUSINESS MARKETING ASSOCIATION OF ST LOUIS            1\n",
       "RELATIONAL CARE MINISTRIES INC                        1\n",
       "YSABEL BARNETT ELEMENTARY SCHOOL PTO                  1\n",
       "ORDER OF BENEVOLENT BLISS INC                         1\n",
       "Name: NAME, Length: 19568, dtype: int64"
      ]
     },
     "execution_count": 15,
     "metadata": {},
     "output_type": "execute_result"
    }
   ],
   "source": [
    "# check column NAME - the one we take back after trying to optimize the model without it and not able to achieve accuracy over 75%\n",
    "org_names = application_df.NAME.value_counts()\n",
    "org_names"
   ]
  },
  {
   "cell_type": "code",
   "execution_count": 16,
   "metadata": {},
   "outputs": [
    {
     "data": {
      "text/plain": [
       "OtherNames                                        22409\n",
       "PARENT BOOSTER USA INC                             1260\n",
       "TOPS CLUB INC                                       765\n",
       "UNITED STATES BOWLING CONGRESS INC                  700\n",
       "WASHINGTON STATE UNIVERSITY                         492\n",
       "                                                  ...  \n",
       "FRATERNAL ORDER OF POLICE                            21\n",
       "ARIZONA FEDERATION OF GARDEN CLUBS                   21\n",
       "TEXAS MASTER GARDENER ASSOCIATION INC                20\n",
       "DISABLED AMERICAN VETERANS AUXILIARY INC             20\n",
       "GENERAL FEDERATION OF WOMENS CLUBS ARIZONA INC       20\n",
       "Name: NAME, Length: 122, dtype: int64"
      ]
     },
     "execution_count": 16,
     "metadata": {},
     "output_type": "execute_result"
    }
   ],
   "source": [
    "# Determine which values to replace if counts are less than 500 (we have 19568 total count)\n",
    "replace_org_names = list(org_names[org_names < 20].index)\n",
    "\n",
    "# Replace in dataframe\n",
    "for name in replace_org_names:\n",
    "    application_df.NAME = application_df.NAME.replace(name,\"OtherNames\")\n",
    "    \n",
    "# Check to make sure binning was successful\n",
    "application_df.NAME.value_counts()"
   ]
  },
  {
   "cell_type": "code",
   "execution_count": 17,
   "metadata": {},
   "outputs": [
    {
     "name": "stdout",
     "output_type": "stream",
     "text": [
      "['NAME', 'APPLICATION_TYPE', 'AFFILIATION', 'CLASSIFICATION', 'USE_CASE', 'ORGANIZATION', 'INCOME_AMT', 'SPECIAL_CONSIDERATIONS']\n"
     ]
    }
   ],
   "source": [
    "# Generate our categorical variable lists\n",
    "# name categorical_cat - used in the next cell\n",
    "application_cat = application_df.dtypes[application_df.dtypes == \"object\"].index.tolist()\n",
    "print(application_cat)"
   ]
  },
  {
   "cell_type": "code",
   "execution_count": 18,
   "metadata": {},
   "outputs": [
    {
     "data": {
      "text/plain": [
       "NAME                      122\n",
       "APPLICATION_TYPE            9\n",
       "AFFILIATION                 6\n",
       "CLASSIFICATION              7\n",
       "USE_CASE                    5\n",
       "ORGANIZATION                4\n",
       "INCOME_AMT                  9\n",
       "SPECIAL_CONSIDERATIONS      2\n",
       "dtype: int64"
      ]
     },
     "execution_count": 18,
     "metadata": {},
     "output_type": "execute_result"
    }
   ],
   "source": [
    "# check a number of unique values in ea column\n",
    "application_df[application_cat].nunique()"
   ]
  },
  {
   "cell_type": "code",
   "execution_count": 19,
   "metadata": {},
   "outputs": [
    {
     "data": {
      "text/html": [
       "<div>\n",
       "<style scoped>\n",
       "    .dataframe tbody tr th:only-of-type {\n",
       "        vertical-align: middle;\n",
       "    }\n",
       "\n",
       "    .dataframe tbody tr th {\n",
       "        vertical-align: top;\n",
       "    }\n",
       "\n",
       "    .dataframe thead th {\n",
       "        text-align: right;\n",
       "    }\n",
       "</style>\n",
       "<table border=\"1\" class=\"dataframe\">\n",
       "  <thead>\n",
       "    <tr style=\"text-align: right;\">\n",
       "      <th></th>\n",
       "      <th>NAME_AIR FORCE ASSOCIATION</th>\n",
       "      <th>NAME_ALABAMA FEDERATION OF WOMENS CLUBS</th>\n",
       "      <th>NAME_ALABAMA TREASURE FOREST ASSOCIATION</th>\n",
       "      <th>NAME_ALPHA PHI SIGMA</th>\n",
       "      <th>NAME_ALPHA PHI SIGMA INC</th>\n",
       "      <th>NAME_ALTRUSA INTERNATIONAL FOUNDATION INC</th>\n",
       "      <th>NAME_AMATEUR ATHLETIC UNION OF THE UNITED STATES</th>\n",
       "      <th>NAME_AMATEUR ATHLETIC UNION OF THE UNITED STATES INC</th>\n",
       "      <th>NAME_AMERICAN ASSOCIATION OF UNIVERSITY WOMEN</th>\n",
       "      <th>NAME_AMERICAN ASSOCIATION OF UNIVERSITY WOMEN INC</th>\n",
       "      <th>...</th>\n",
       "      <th>INCOME_AMT_1-9999</th>\n",
       "      <th>INCOME_AMT_10000-24999</th>\n",
       "      <th>INCOME_AMT_100000-499999</th>\n",
       "      <th>INCOME_AMT_10M-50M</th>\n",
       "      <th>INCOME_AMT_1M-5M</th>\n",
       "      <th>INCOME_AMT_25000-99999</th>\n",
       "      <th>INCOME_AMT_50M+</th>\n",
       "      <th>INCOME_AMT_5M-10M</th>\n",
       "      <th>SPECIAL_CONSIDERATIONS_N</th>\n",
       "      <th>SPECIAL_CONSIDERATIONS_Y</th>\n",
       "    </tr>\n",
       "  </thead>\n",
       "  <tbody>\n",
       "    <tr>\n",
       "      <th>0</th>\n",
       "      <td>0.0</td>\n",
       "      <td>0.0</td>\n",
       "      <td>0.0</td>\n",
       "      <td>0.0</td>\n",
       "      <td>0.0</td>\n",
       "      <td>0.0</td>\n",
       "      <td>0.0</td>\n",
       "      <td>0.0</td>\n",
       "      <td>0.0</td>\n",
       "      <td>0.0</td>\n",
       "      <td>...</td>\n",
       "      <td>0.0</td>\n",
       "      <td>0.0</td>\n",
       "      <td>0.0</td>\n",
       "      <td>0.0</td>\n",
       "      <td>0.0</td>\n",
       "      <td>0.0</td>\n",
       "      <td>0.0</td>\n",
       "      <td>0.0</td>\n",
       "      <td>1.0</td>\n",
       "      <td>0.0</td>\n",
       "    </tr>\n",
       "    <tr>\n",
       "      <th>1</th>\n",
       "      <td>0.0</td>\n",
       "      <td>0.0</td>\n",
       "      <td>0.0</td>\n",
       "      <td>0.0</td>\n",
       "      <td>0.0</td>\n",
       "      <td>0.0</td>\n",
       "      <td>0.0</td>\n",
       "      <td>0.0</td>\n",
       "      <td>0.0</td>\n",
       "      <td>0.0</td>\n",
       "      <td>...</td>\n",
       "      <td>1.0</td>\n",
       "      <td>0.0</td>\n",
       "      <td>0.0</td>\n",
       "      <td>0.0</td>\n",
       "      <td>0.0</td>\n",
       "      <td>0.0</td>\n",
       "      <td>0.0</td>\n",
       "      <td>0.0</td>\n",
       "      <td>1.0</td>\n",
       "      <td>0.0</td>\n",
       "    </tr>\n",
       "    <tr>\n",
       "      <th>2</th>\n",
       "      <td>0.0</td>\n",
       "      <td>0.0</td>\n",
       "      <td>0.0</td>\n",
       "      <td>0.0</td>\n",
       "      <td>0.0</td>\n",
       "      <td>0.0</td>\n",
       "      <td>0.0</td>\n",
       "      <td>0.0</td>\n",
       "      <td>0.0</td>\n",
       "      <td>0.0</td>\n",
       "      <td>...</td>\n",
       "      <td>0.0</td>\n",
       "      <td>0.0</td>\n",
       "      <td>0.0</td>\n",
       "      <td>0.0</td>\n",
       "      <td>0.0</td>\n",
       "      <td>0.0</td>\n",
       "      <td>0.0</td>\n",
       "      <td>0.0</td>\n",
       "      <td>1.0</td>\n",
       "      <td>0.0</td>\n",
       "    </tr>\n",
       "    <tr>\n",
       "      <th>3</th>\n",
       "      <td>0.0</td>\n",
       "      <td>0.0</td>\n",
       "      <td>0.0</td>\n",
       "      <td>0.0</td>\n",
       "      <td>0.0</td>\n",
       "      <td>0.0</td>\n",
       "      <td>0.0</td>\n",
       "      <td>0.0</td>\n",
       "      <td>0.0</td>\n",
       "      <td>0.0</td>\n",
       "      <td>...</td>\n",
       "      <td>0.0</td>\n",
       "      <td>1.0</td>\n",
       "      <td>0.0</td>\n",
       "      <td>0.0</td>\n",
       "      <td>0.0</td>\n",
       "      <td>0.0</td>\n",
       "      <td>0.0</td>\n",
       "      <td>0.0</td>\n",
       "      <td>1.0</td>\n",
       "      <td>0.0</td>\n",
       "    </tr>\n",
       "    <tr>\n",
       "      <th>4</th>\n",
       "      <td>0.0</td>\n",
       "      <td>0.0</td>\n",
       "      <td>0.0</td>\n",
       "      <td>0.0</td>\n",
       "      <td>0.0</td>\n",
       "      <td>0.0</td>\n",
       "      <td>0.0</td>\n",
       "      <td>0.0</td>\n",
       "      <td>0.0</td>\n",
       "      <td>0.0</td>\n",
       "      <td>...</td>\n",
       "      <td>0.0</td>\n",
       "      <td>0.0</td>\n",
       "      <td>1.0</td>\n",
       "      <td>0.0</td>\n",
       "      <td>0.0</td>\n",
       "      <td>0.0</td>\n",
       "      <td>0.0</td>\n",
       "      <td>0.0</td>\n",
       "      <td>1.0</td>\n",
       "      <td>0.0</td>\n",
       "    </tr>\n",
       "  </tbody>\n",
       "</table>\n",
       "<p>5 rows × 164 columns</p>\n",
       "</div>"
      ],
      "text/plain": [
       "   NAME_AIR FORCE ASSOCIATION  NAME_ALABAMA FEDERATION OF WOMENS CLUBS  \\\n",
       "0                         0.0                                      0.0   \n",
       "1                         0.0                                      0.0   \n",
       "2                         0.0                                      0.0   \n",
       "3                         0.0                                      0.0   \n",
       "4                         0.0                                      0.0   \n",
       "\n",
       "   NAME_ALABAMA TREASURE FOREST ASSOCIATION  NAME_ALPHA PHI SIGMA  \\\n",
       "0                                       0.0                   0.0   \n",
       "1                                       0.0                   0.0   \n",
       "2                                       0.0                   0.0   \n",
       "3                                       0.0                   0.0   \n",
       "4                                       0.0                   0.0   \n",
       "\n",
       "   NAME_ALPHA PHI SIGMA INC  NAME_ALTRUSA INTERNATIONAL FOUNDATION INC  \\\n",
       "0                       0.0                                        0.0   \n",
       "1                       0.0                                        0.0   \n",
       "2                       0.0                                        0.0   \n",
       "3                       0.0                                        0.0   \n",
       "4                       0.0                                        0.0   \n",
       "\n",
       "   NAME_AMATEUR ATHLETIC UNION OF THE UNITED STATES  \\\n",
       "0                                               0.0   \n",
       "1                                               0.0   \n",
       "2                                               0.0   \n",
       "3                                               0.0   \n",
       "4                                               0.0   \n",
       "\n",
       "   NAME_AMATEUR ATHLETIC UNION OF THE UNITED STATES INC  \\\n",
       "0                                                0.0      \n",
       "1                                                0.0      \n",
       "2                                                0.0      \n",
       "3                                                0.0      \n",
       "4                                                0.0      \n",
       "\n",
       "   NAME_AMERICAN ASSOCIATION OF UNIVERSITY WOMEN  \\\n",
       "0                                            0.0   \n",
       "1                                            0.0   \n",
       "2                                            0.0   \n",
       "3                                            0.0   \n",
       "4                                            0.0   \n",
       "\n",
       "   NAME_AMERICAN ASSOCIATION OF UNIVERSITY WOMEN INC  ...  INCOME_AMT_1-9999  \\\n",
       "0                                                0.0  ...                0.0   \n",
       "1                                                0.0  ...                1.0   \n",
       "2                                                0.0  ...                0.0   \n",
       "3                                                0.0  ...                0.0   \n",
       "4                                                0.0  ...                0.0   \n",
       "\n",
       "   INCOME_AMT_10000-24999  INCOME_AMT_100000-499999  INCOME_AMT_10M-50M  \\\n",
       "0                     0.0                       0.0                 0.0   \n",
       "1                     0.0                       0.0                 0.0   \n",
       "2                     0.0                       0.0                 0.0   \n",
       "3                     1.0                       0.0                 0.0   \n",
       "4                     0.0                       1.0                 0.0   \n",
       "\n",
       "   INCOME_AMT_1M-5M  INCOME_AMT_25000-99999  INCOME_AMT_50M+  \\\n",
       "0               0.0                     0.0              0.0   \n",
       "1               0.0                     0.0              0.0   \n",
       "2               0.0                     0.0              0.0   \n",
       "3               0.0                     0.0              0.0   \n",
       "4               0.0                     0.0              0.0   \n",
       "\n",
       "   INCOME_AMT_5M-10M  SPECIAL_CONSIDERATIONS_N  SPECIAL_CONSIDERATIONS_Y  \n",
       "0                0.0                       1.0                       0.0  \n",
       "1                0.0                       1.0                       0.0  \n",
       "2                0.0                       1.0                       0.0  \n",
       "3                0.0                       1.0                       0.0  \n",
       "4                0.0                       1.0                       0.0  \n",
       "\n",
       "[5 rows x 164 columns]"
      ]
     },
     "execution_count": 19,
     "metadata": {},
     "output_type": "execute_result"
    }
   ],
   "source": [
    "# Create a OneHotEncoder instance\n",
    "enc = OneHotEncoder(sparse=False)\n",
    "\n",
    "# Fit and transform the OneHotEncoder using the categorical variable list\n",
    "encode_df = pd.DataFrame(enc.fit_transform(application_df[application_cat]))\n",
    "\n",
    "# Add the encoded variable names to the dataframe\n",
    "encode_df.columns = enc.get_feature_names(application_cat)\n",
    "encode_df.head()"
   ]
  },
  {
   "cell_type": "code",
   "execution_count": 20,
   "metadata": {},
   "outputs": [
    {
     "data": {
      "text/html": [
       "<div>\n",
       "<style scoped>\n",
       "    .dataframe tbody tr th:only-of-type {\n",
       "        vertical-align: middle;\n",
       "    }\n",
       "\n",
       "    .dataframe tbody tr th {\n",
       "        vertical-align: top;\n",
       "    }\n",
       "\n",
       "    .dataframe thead th {\n",
       "        text-align: right;\n",
       "    }\n",
       "</style>\n",
       "<table border=\"1\" class=\"dataframe\">\n",
       "  <thead>\n",
       "    <tr style=\"text-align: right;\">\n",
       "      <th></th>\n",
       "      <th>STATUS</th>\n",
       "      <th>ASK_AMT</th>\n",
       "      <th>IS_SUCCESSFUL</th>\n",
       "      <th>NAME_AIR FORCE ASSOCIATION</th>\n",
       "      <th>NAME_ALABAMA FEDERATION OF WOMENS CLUBS</th>\n",
       "      <th>NAME_ALABAMA TREASURE FOREST ASSOCIATION</th>\n",
       "      <th>NAME_ALPHA PHI SIGMA</th>\n",
       "      <th>NAME_ALPHA PHI SIGMA INC</th>\n",
       "      <th>NAME_ALTRUSA INTERNATIONAL FOUNDATION INC</th>\n",
       "      <th>NAME_AMATEUR ATHLETIC UNION OF THE UNITED STATES</th>\n",
       "      <th>...</th>\n",
       "      <th>INCOME_AMT_1-9999</th>\n",
       "      <th>INCOME_AMT_10000-24999</th>\n",
       "      <th>INCOME_AMT_100000-499999</th>\n",
       "      <th>INCOME_AMT_10M-50M</th>\n",
       "      <th>INCOME_AMT_1M-5M</th>\n",
       "      <th>INCOME_AMT_25000-99999</th>\n",
       "      <th>INCOME_AMT_50M+</th>\n",
       "      <th>INCOME_AMT_5M-10M</th>\n",
       "      <th>SPECIAL_CONSIDERATIONS_N</th>\n",
       "      <th>SPECIAL_CONSIDERATIONS_Y</th>\n",
       "    </tr>\n",
       "  </thead>\n",
       "  <tbody>\n",
       "    <tr>\n",
       "      <th>0</th>\n",
       "      <td>1</td>\n",
       "      <td>5000</td>\n",
       "      <td>1</td>\n",
       "      <td>0.0</td>\n",
       "      <td>0.0</td>\n",
       "      <td>0.0</td>\n",
       "      <td>0.0</td>\n",
       "      <td>0.0</td>\n",
       "      <td>0.0</td>\n",
       "      <td>0.0</td>\n",
       "      <td>...</td>\n",
       "      <td>0.0</td>\n",
       "      <td>0.0</td>\n",
       "      <td>0.0</td>\n",
       "      <td>0.0</td>\n",
       "      <td>0.0</td>\n",
       "      <td>0.0</td>\n",
       "      <td>0.0</td>\n",
       "      <td>0.0</td>\n",
       "      <td>1.0</td>\n",
       "      <td>0.0</td>\n",
       "    </tr>\n",
       "    <tr>\n",
       "      <th>1</th>\n",
       "      <td>1</td>\n",
       "      <td>108590</td>\n",
       "      <td>1</td>\n",
       "      <td>0.0</td>\n",
       "      <td>0.0</td>\n",
       "      <td>0.0</td>\n",
       "      <td>0.0</td>\n",
       "      <td>0.0</td>\n",
       "      <td>0.0</td>\n",
       "      <td>0.0</td>\n",
       "      <td>...</td>\n",
       "      <td>1.0</td>\n",
       "      <td>0.0</td>\n",
       "      <td>0.0</td>\n",
       "      <td>0.0</td>\n",
       "      <td>0.0</td>\n",
       "      <td>0.0</td>\n",
       "      <td>0.0</td>\n",
       "      <td>0.0</td>\n",
       "      <td>1.0</td>\n",
       "      <td>0.0</td>\n",
       "    </tr>\n",
       "    <tr>\n",
       "      <th>2</th>\n",
       "      <td>1</td>\n",
       "      <td>5000</td>\n",
       "      <td>0</td>\n",
       "      <td>0.0</td>\n",
       "      <td>0.0</td>\n",
       "      <td>0.0</td>\n",
       "      <td>0.0</td>\n",
       "      <td>0.0</td>\n",
       "      <td>0.0</td>\n",
       "      <td>0.0</td>\n",
       "      <td>...</td>\n",
       "      <td>0.0</td>\n",
       "      <td>0.0</td>\n",
       "      <td>0.0</td>\n",
       "      <td>0.0</td>\n",
       "      <td>0.0</td>\n",
       "      <td>0.0</td>\n",
       "      <td>0.0</td>\n",
       "      <td>0.0</td>\n",
       "      <td>1.0</td>\n",
       "      <td>0.0</td>\n",
       "    </tr>\n",
       "    <tr>\n",
       "      <th>3</th>\n",
       "      <td>1</td>\n",
       "      <td>6692</td>\n",
       "      <td>1</td>\n",
       "      <td>0.0</td>\n",
       "      <td>0.0</td>\n",
       "      <td>0.0</td>\n",
       "      <td>0.0</td>\n",
       "      <td>0.0</td>\n",
       "      <td>0.0</td>\n",
       "      <td>0.0</td>\n",
       "      <td>...</td>\n",
       "      <td>0.0</td>\n",
       "      <td>1.0</td>\n",
       "      <td>0.0</td>\n",
       "      <td>0.0</td>\n",
       "      <td>0.0</td>\n",
       "      <td>0.0</td>\n",
       "      <td>0.0</td>\n",
       "      <td>0.0</td>\n",
       "      <td>1.0</td>\n",
       "      <td>0.0</td>\n",
       "    </tr>\n",
       "    <tr>\n",
       "      <th>4</th>\n",
       "      <td>1</td>\n",
       "      <td>142590</td>\n",
       "      <td>1</td>\n",
       "      <td>0.0</td>\n",
       "      <td>0.0</td>\n",
       "      <td>0.0</td>\n",
       "      <td>0.0</td>\n",
       "      <td>0.0</td>\n",
       "      <td>0.0</td>\n",
       "      <td>0.0</td>\n",
       "      <td>...</td>\n",
       "      <td>0.0</td>\n",
       "      <td>0.0</td>\n",
       "      <td>1.0</td>\n",
       "      <td>0.0</td>\n",
       "      <td>0.0</td>\n",
       "      <td>0.0</td>\n",
       "      <td>0.0</td>\n",
       "      <td>0.0</td>\n",
       "      <td>1.0</td>\n",
       "      <td>0.0</td>\n",
       "    </tr>\n",
       "  </tbody>\n",
       "</table>\n",
       "<p>5 rows × 167 columns</p>\n",
       "</div>"
      ],
      "text/plain": [
       "   STATUS  ASK_AMT  IS_SUCCESSFUL  NAME_AIR FORCE ASSOCIATION  \\\n",
       "0       1     5000              1                         0.0   \n",
       "1       1   108590              1                         0.0   \n",
       "2       1     5000              0                         0.0   \n",
       "3       1     6692              1                         0.0   \n",
       "4       1   142590              1                         0.0   \n",
       "\n",
       "   NAME_ALABAMA FEDERATION OF WOMENS CLUBS  \\\n",
       "0                                      0.0   \n",
       "1                                      0.0   \n",
       "2                                      0.0   \n",
       "3                                      0.0   \n",
       "4                                      0.0   \n",
       "\n",
       "   NAME_ALABAMA TREASURE FOREST ASSOCIATION  NAME_ALPHA PHI SIGMA  \\\n",
       "0                                       0.0                   0.0   \n",
       "1                                       0.0                   0.0   \n",
       "2                                       0.0                   0.0   \n",
       "3                                       0.0                   0.0   \n",
       "4                                       0.0                   0.0   \n",
       "\n",
       "   NAME_ALPHA PHI SIGMA INC  NAME_ALTRUSA INTERNATIONAL FOUNDATION INC  \\\n",
       "0                       0.0                                        0.0   \n",
       "1                       0.0                                        0.0   \n",
       "2                       0.0                                        0.0   \n",
       "3                       0.0                                        0.0   \n",
       "4                       0.0                                        0.0   \n",
       "\n",
       "   NAME_AMATEUR ATHLETIC UNION OF THE UNITED STATES  ...  INCOME_AMT_1-9999  \\\n",
       "0                                               0.0  ...                0.0   \n",
       "1                                               0.0  ...                1.0   \n",
       "2                                               0.0  ...                0.0   \n",
       "3                                               0.0  ...                0.0   \n",
       "4                                               0.0  ...                0.0   \n",
       "\n",
       "   INCOME_AMT_10000-24999  INCOME_AMT_100000-499999  INCOME_AMT_10M-50M  \\\n",
       "0                     0.0                       0.0                 0.0   \n",
       "1                     0.0                       0.0                 0.0   \n",
       "2                     0.0                       0.0                 0.0   \n",
       "3                     1.0                       0.0                 0.0   \n",
       "4                     0.0                       1.0                 0.0   \n",
       "\n",
       "   INCOME_AMT_1M-5M  INCOME_AMT_25000-99999  INCOME_AMT_50M+  \\\n",
       "0               0.0                     0.0              0.0   \n",
       "1               0.0                     0.0              0.0   \n",
       "2               0.0                     0.0              0.0   \n",
       "3               0.0                     0.0              0.0   \n",
       "4               0.0                     0.0              0.0   \n",
       "\n",
       "   INCOME_AMT_5M-10M  SPECIAL_CONSIDERATIONS_N  SPECIAL_CONSIDERATIONS_Y  \n",
       "0                0.0                       1.0                       0.0  \n",
       "1                0.0                       1.0                       0.0  \n",
       "2                0.0                       1.0                       0.0  \n",
       "3                0.0                       1.0                       0.0  \n",
       "4                0.0                       1.0                       0.0  \n",
       "\n",
       "[5 rows x 167 columns]"
      ]
     },
     "execution_count": 20,
     "metadata": {},
     "output_type": "execute_result"
    }
   ],
   "source": [
    "# Merge one-hot encoded features and drop the originals\n",
    "application_df = application_df.merge(encode_df, left_index=True, right_index=True)\n",
    "application_df = application_df.drop(application_cat, 1)\n",
    "application_df.head()"
   ]
  },
  {
   "cell_type": "code",
   "execution_count": 21,
   "metadata": {},
   "outputs": [
    {
     "data": {
      "text/plain": [
       "STATUS                                       int64\n",
       "ASK_AMT                                      int64\n",
       "IS_SUCCESSFUL                                int64\n",
       "NAME_AIR FORCE ASSOCIATION                 float64\n",
       "NAME_ALABAMA FEDERATION OF WOMENS CLUBS    float64\n",
       "                                            ...   \n",
       "INCOME_AMT_25000-99999                     float64\n",
       "INCOME_AMT_50M+                            float64\n",
       "INCOME_AMT_5M-10M                          float64\n",
       "SPECIAL_CONSIDERATIONS_N                   float64\n",
       "SPECIAL_CONSIDERATIONS_Y                   float64\n",
       "Length: 167, dtype: object"
      ]
     },
     "execution_count": 21,
     "metadata": {},
     "output_type": "execute_result"
    }
   ],
   "source": [
    "application_df.dtypes"
   ]
  },
  {
   "cell_type": "code",
   "execution_count": 22,
   "metadata": {},
   "outputs": [],
   "source": [
    "# Split our preprocessed data into our features and target arrays\n",
    "y = application_df[\"IS_SUCCESSFUL\"]\n",
    "X = application_df.drop(columns = \"IS_SUCCESSFUL\")\n",
    "\n",
    "# Split the preprocessed data into a training and testing dataset\n",
    "X_train, X_test, y_train, y_test = train_test_split(X, y, random_state=42, stratify=y)"
   ]
  },
  {
   "cell_type": "code",
   "execution_count": 23,
   "metadata": {},
   "outputs": [],
   "source": [
    "# Create a StandardScaler instances\n",
    "scaler = StandardScaler()\n",
    "\n",
    "# Fit the StandardScaler\n",
    "X_scaler = scaler.fit(X_train)\n",
    "\n",
    "# Scale the data\n",
    "X_train_scaled = X_scaler.transform(X_train)\n",
    "X_test_scaled = X_scaler.transform(X_test)"
   ]
  },
  {
   "cell_type": "markdown",
   "metadata": {},
   "source": [
    "### Deliverable 2: Compile, Train and Evaluate the Model"
   ]
  },
  {
   "cell_type": "code",
   "execution_count": 24,
   "metadata": {},
   "outputs": [
    {
     "name": "stdout",
     "output_type": "stream",
     "text": [
      "Model: \"sequential\"\n",
      "_________________________________________________________________\n",
      "Layer (type)                 Output Shape              Param #   \n",
      "=================================================================\n",
      "dense (Dense)                (None, 100)               16700     \n",
      "_________________________________________________________________\n",
      "dense_1 (Dense)              (None, 40)                4040      \n",
      "_________________________________________________________________\n",
      "dense_2 (Dense)              (None, 10)                410       \n",
      "_________________________________________________________________\n",
      "dense_3 (Dense)              (None, 1)                 11        \n",
      "=================================================================\n",
      "Total params: 21,161\n",
      "Trainable params: 21,161\n",
      "Non-trainable params: 0\n",
      "_________________________________________________________________\n"
     ]
    }
   ],
   "source": [
    "# Define the model - deep neural net, i.e., the number of input features and hidden nodes for each layer.\n",
    "number_input_features = len(X_train_scaled[0])\n",
    "hidden_nodes_layer1 =  100\n",
    "hidden_nodes_layer2 = 40\n",
    "hidden_nodes_layer3 = 10\n",
    "\n",
    "nn = tf.keras.models.Sequential()\n",
    "\n",
    "# First hidden layer\n",
    "nn.add(tf.keras.layers.Dense(units=hidden_nodes_layer1, input_dim=number_input_features, activation=\"sigmoid\"))\n",
    "\n",
    "# Second hidden layer\n",
    "nn.add(tf.keras.layers.Dense(units=hidden_nodes_layer2, activation=\"sigmoid\"))\n",
    "\n",
    "# Third hidden layer\n",
    "nn.add(tf.keras.layers.Dense(units=hidden_nodes_layer3, activation=\"sigmoid\"))\n",
    "\n",
    "# Output layer\n",
    "nn.add(tf.keras.layers.Dense(units=1, activation=\"sigmoid\"))\n",
    "\n",
    "# Check the structure of the model\n",
    "nn.summary()"
   ]
  },
  {
   "cell_type": "code",
   "execution_count": 25,
   "metadata": {},
   "outputs": [],
   "source": [
    "# Import checkpoint dependencies\n",
    "import os\n",
    "from tensorflow.keras.callbacks import ModelCheckpoint\n",
    "\n",
    "# Define the checkpoint path and filenames\n",
    "os.makedirs(\"checkpoints/\",exist_ok=True)\n",
    "checkpoint_path = \"checkpoints/weights.{epoch:02d}.hdf5\""
   ]
  },
  {
   "cell_type": "code",
   "execution_count": 26,
   "metadata": {},
   "outputs": [],
   "source": [
    "# Compile the model\n",
    "nn.compile(loss=\"binary_crossentropy\", optimizer=\"adam\", metrics=[\"accuracy\"])"
   ]
  },
  {
   "cell_type": "code",
   "execution_count": 27,
   "metadata": {},
   "outputs": [
    {
     "name": "stdout",
     "output_type": "stream",
     "text": [
      "Epoch 1/100\n",
      "804/804 [==============================] - 1s 937us/step - loss: 0.5243 - accuracy: 0.7509\n",
      "Epoch 2/100\n",
      "159/804 [====>.........................] - ETA: 0s - loss: 0.4666 - accuracy: 0.7801\n",
      "Epoch 00002: saving model to checkpoints\\weights.02.hdf5\n",
      "804/804 [==============================] - 1s 936us/step - loss: 0.4754 - accuracy: 0.7700\n",
      "Epoch 3/100\n",
      "381/804 [=============>................] - ETA: 0s - loss: 0.4712 - accuracy: 0.7681\n",
      "Epoch 00003: saving model to checkpoints\\weights.03.hdf5\n",
      "804/804 [==============================] - 1s 947us/step - loss: 0.4683 - accuracy: 0.7692\n",
      "Epoch 4/100\n",
      "583/804 [====================>.........] - ETA: 0s - loss: 0.4645 - accuracy: 0.7697\n",
      "Epoch 00004: saving model to checkpoints\\weights.04.hdf5\n",
      "804/804 [==============================] - 1s 980us/step - loss: 0.4643 - accuracy: 0.7706\n",
      "Epoch 5/100\n",
      "744/804 [==========================>...] - ETA: 0s - loss: 0.4611 - accuracy: 0.7740\n",
      "Epoch 00005: saving model to checkpoints\\weights.05.hdf5\n",
      "804/804 [==============================] - 1s 983us/step - loss: 0.4617 - accuracy: 0.7732\n",
      "Epoch 6/100\n",
      "804/804 [==============================] - 1s 1ms/step - loss: 0.4604 - accuracy: 0.7720\n",
      "Epoch 7/100\n",
      "148/804 [====>.........................] - ETA: 0s - loss: 0.4684 - accuracy: 0.7631\n",
      "Epoch 00007: saving model to checkpoints\\weights.07.hdf5\n",
      "804/804 [==============================] - 1s 1000us/step - loss: 0.4594 - accuracy: 0.7726\n",
      "Epoch 8/100\n",
      "366/804 [============>.................] - ETA: 0s - loss: 0.4599 - accuracy: 0.7710\n",
      "Epoch 00008: saving model to checkpoints\\weights.08.hdf5\n",
      "804/804 [==============================] - 1s 974us/step - loss: 0.4579 - accuracy: 0.7744\n",
      "Epoch 9/100\n",
      "527/804 [==================>...........] - ETA: 0s - loss: 0.4591 - accuracy: 0.7722\n",
      "Epoch 00009: saving model to checkpoints\\weights.09.hdf5\n",
      "804/804 [==============================] - 1s 993us/step - loss: 0.4573 - accuracy: 0.7733\n",
      "Epoch 10/100\n",
      "759/804 [===========================>..] - ETA: 0s - loss: 0.4556 - accuracy: 0.7746\n",
      "Epoch 00010: saving model to checkpoints\\weights.10.hdf5\n",
      "804/804 [==============================] - 1s 961us/step - loss: 0.4563 - accuracy: 0.7750\n",
      "Epoch 11/100\n",
      "804/804 [==============================] - 1s 953us/step - loss: 0.4555 - accuracy: 0.7749\n",
      "Epoch 12/100\n",
      "108/804 [===>..........................] - ETA: 0s - loss: 0.4452 - accuracy: 0.7844\n",
      "Epoch 00012: saving model to checkpoints\\weights.12.hdf5\n",
      "804/804 [==============================] - 1s 988us/step - loss: 0.4555 - accuracy: 0.7750\n",
      "Epoch 13/100\n",
      "331/804 [===========>..................] - ETA: 0s - loss: 0.4547 - accuracy: 0.7773\n",
      "Epoch 00013: saving model to checkpoints\\weights.13.hdf5\n",
      "804/804 [==============================] - 1s 978us/step - loss: 0.4543 - accuracy: 0.7769\n",
      "Epoch 14/100\n",
      "512/804 [==================>...........] - ETA: 0s - loss: 0.4523 - accuracy: 0.7783\n",
      "Epoch 00014: saving model to checkpoints\\weights.14.hdf5\n",
      "804/804 [==============================] - 1s 993us/step - loss: 0.4535 - accuracy: 0.7768\n",
      "Epoch 15/100\n",
      "740/804 [==========================>...] - ETA: 0s - loss: 0.4524 - accuracy: 0.7767\n",
      "Epoch 00015: saving model to checkpoints\\weights.15.hdf5\n",
      "804/804 [==============================] - 1s 974us/step - loss: 0.4527 - accuracy: 0.7764\n",
      "Epoch 16/100\n",
      "804/804 [==============================] - 1s 975us/step - loss: 0.4524 - accuracy: 0.7777\n",
      "Epoch 17/100\n",
      "104/804 [==>...........................] - ETA: 0s - loss: 0.4524 - accuracy: 0.7764\n",
      "Epoch 00017: saving model to checkpoints\\weights.17.hdf5\n",
      "804/804 [==============================] - 1s 946us/step - loss: 0.4517 - accuracy: 0.7767\n",
      "Epoch 18/100\n",
      "311/804 [==========>...................] - ETA: 0s - loss: 0.4465 - accuracy: 0.7820\n",
      "Epoch 00018: saving model to checkpoints\\weights.18.hdf5\n",
      "804/804 [==============================] - 1s 999us/step - loss: 0.4504 - accuracy: 0.7788\n",
      "Epoch 19/100\n",
      "521/804 [==================>...........] - ETA: 0s - loss: 0.4472 - accuracy: 0.7843\n",
      "Epoch 00019: saving model to checkpoints\\weights.19.hdf5\n",
      "804/804 [==============================] - 1s 987us/step - loss: 0.4501 - accuracy: 0.7800\n",
      "Epoch 20/100\n",
      "697/804 [=========================>....] - ETA: 0s - loss: 0.4483 - accuracy: 0.7802\n",
      "Epoch 00020: saving model to checkpoints\\weights.20.hdf5\n",
      "804/804 [==============================] - 1s 966us/step - loss: 0.4491 - accuracy: 0.7798\n",
      "Epoch 21/100\n",
      "804/804 [==============================] - 1s 952us/step - loss: 0.4489 - accuracy: 0.7792\n",
      "Epoch 22/100\n",
      "105/804 [==>...........................] - ETA: 0s - loss: 0.4563 - accuracy: 0.7711\n",
      "Epoch 00022: saving model to checkpoints\\weights.22.hdf5\n",
      "804/804 [==============================] - 1s 980us/step - loss: 0.4478 - accuracy: 0.7813\n",
      "Epoch 23/100\n",
      "274/804 [=========>....................] - ETA: 0s - loss: 0.4489 - accuracy: 0.7782\n",
      "Epoch 00023: saving model to checkpoints\\weights.23.hdf5\n",
      "804/804 [==============================] - 1s 966us/step - loss: 0.4475 - accuracy: 0.7816\n",
      "Epoch 24/100\n",
      "491/804 [=================>............] - ETA: 0s - loss: 0.4488 - accuracy: 0.7818\n",
      "Epoch 00024: saving model to checkpoints\\weights.24.hdf5\n",
      "804/804 [==============================] - 1s 972us/step - loss: 0.4472 - accuracy: 0.7811\n",
      "Epoch 25/100\n",
      "671/804 [========================>.....] - ETA: 0s - loss: 0.4478 - accuracy: 0.7797\n",
      "Epoch 00025: saving model to checkpoints\\weights.25.hdf5\n",
      "804/804 [==============================] - 1s 1ms/step - loss: 0.4465 - accuracy: 0.7813\n",
      "Epoch 26/100\n",
      "804/804 [==============================] - 1s 1ms/step - loss: 0.4460 - accuracy: 0.7812\n",
      "Epoch 27/100\n",
      " 51/804 [>.............................] - ETA: 0s - loss: 0.4585 - accuracy: 0.7751\n",
      "Epoch 00027: saving model to checkpoints\\weights.27.hdf5\n",
      "804/804 [==============================] - 1s 997us/step - loss: 0.4458 - accuracy: 0.7825\n",
      "Epoch 28/100\n",
      "268/804 [=========>....................] - ETA: 0s - loss: 0.4340 - accuracy: 0.7905\n",
      "Epoch 00028: saving model to checkpoints\\weights.28.hdf5\n",
      "804/804 [==============================] - 1s 974us/step - loss: 0.4452 - accuracy: 0.7838\n",
      "Epoch 29/100\n",
      "476/804 [================>.............] - ETA: 0s - loss: 0.4416 - accuracy: 0.7866\n",
      "Epoch 00029: saving model to checkpoints\\weights.29.hdf5\n",
      "804/804 [==============================] - 1s 976us/step - loss: 0.4442 - accuracy: 0.7825\n",
      "Epoch 30/100\n",
      "679/804 [========================>.....] - ETA: 0s - loss: 0.4428 - accuracy: 0.7855\n",
      "Epoch 00030: saving model to checkpoints\\weights.30.hdf5\n",
      "804/804 [==============================] - 1s 980us/step - loss: 0.4439 - accuracy: 0.7846\n",
      "Epoch 31/100\n",
      "804/804 [==============================] - 1s 971us/step - loss: 0.4440 - accuracy: 0.7846\n",
      "Epoch 32/100\n",
      " 49/804 [>.............................] - ETA: 0s - loss: 0.4380 - accuracy: 0.7787\n",
      "Epoch 00032: saving model to checkpoints\\weights.32.hdf5\n",
      "804/804 [==============================] - 1s 985us/step - loss: 0.4433 - accuracy: 0.7825\n",
      "Epoch 33/100\n",
      "264/804 [========>.....................] - ETA: 0s - loss: 0.4451 - accuracy: 0.7824\n",
      "Epoch 00033: saving model to checkpoints\\weights.33.hdf5\n",
      "804/804 [==============================] - 1s 980us/step - loss: 0.4432 - accuracy: 0.7832\n",
      "Epoch 34/100\n",
      "421/804 [==============>...............] - ETA: 0s - loss: 0.4477 - accuracy: 0.7781\n",
      "Epoch 00034: saving model to checkpoints\\weights.34.hdf5\n",
      "804/804 [==============================] - 1s 967us/step - loss: 0.4428 - accuracy: 0.7838\n",
      "Epoch 35/100\n",
      "640/804 [======================>.......] - ETA: 0s - loss: 0.4400 - accuracy: 0.7837\n",
      "Epoch 00035: saving model to checkpoints\\weights.35.hdf5\n",
      "804/804 [==============================] - 1s 987us/step - loss: 0.4423 - accuracy: 0.7838\n",
      "Epoch 36/100\n",
      "804/804 [==============================] - 1s 966us/step - loss: 0.4416 - accuracy: 0.7851\n",
      "Epoch 37/100\n",
      " 55/804 [=>............................] - ETA: 0s - loss: 0.4257 - accuracy: 0.8006\n",
      "Epoch 00037: saving model to checkpoints\\weights.37.hdf5\n",
      "804/804 [==============================] - 1s 977us/step - loss: 0.4415 - accuracy: 0.7849\n",
      "Epoch 38/100\n",
      "214/804 [======>.......................] - ETA: 0s - loss: 0.4427 - accuracy: 0.7826\n",
      "Epoch 00038: saving model to checkpoints\\weights.38.hdf5\n",
      "804/804 [==============================] - 1s 980us/step - loss: 0.4413 - accuracy: 0.7842\n"
     ]
    },
    {
     "name": "stdout",
     "output_type": "stream",
     "text": [
      "Epoch 39/100\n",
      "438/804 [===============>..............] - ETA: 0s - loss: 0.4325 - accuracy: 0.7912\n",
      "Epoch 00039: saving model to checkpoints\\weights.39.hdf5\n",
      "804/804 [==============================] - 1s 941us/step - loss: 0.4409 - accuracy: 0.7839\n",
      "Epoch 40/100\n",
      "596/804 [=====================>........] - ETA: 0s - loss: 0.4404 - accuracy: 0.7857\n",
      "Epoch 00040: saving model to checkpoints\\weights.40.hdf5\n",
      "804/804 [==============================] - 1s 955us/step - loss: 0.4411 - accuracy: 0.7847\n",
      "Epoch 41/100\n",
      "804/804 [==============================] - 1s 932us/step - loss: 0.4406 - accuracy: 0.7837\n",
      "Epoch 42/100\n",
      "  1/804 [..............................] - ETA: 0s - loss: 0.4599 - accuracy: 0.7500\n",
      "Epoch 00042: saving model to checkpoints\\weights.42.hdf5\n",
      "804/804 [==============================] - 1s 964us/step - loss: 0.4401 - accuracy: 0.7849\n",
      "Epoch 43/100\n",
      "215/804 [=======>......................] - ETA: 0s - loss: 0.4379 - accuracy: 0.7860\n",
      "Epoch 00043: saving model to checkpoints\\weights.43.hdf5\n",
      "804/804 [==============================] - 1s 936us/step - loss: 0.4398 - accuracy: 0.7860\n",
      "Epoch 44/100\n",
      "384/804 [=============>................] - ETA: 0s - loss: 0.4389 - accuracy: 0.7824\n",
      "Epoch 00044: saving model to checkpoints\\weights.44.hdf5\n",
      "804/804 [==============================] - 1s 965us/step - loss: 0.4398 - accuracy: 0.7851\n",
      "Epoch 45/100\n",
      "594/804 [=====================>........] - ETA: 0s - loss: 0.4415 - accuracy: 0.7835\n",
      "Epoch 00045: saving model to checkpoints\\weights.45.hdf5\n",
      "804/804 [==============================] - 1s 955us/step - loss: 0.4394 - accuracy: 0.7845\n",
      "Epoch 46/100\n",
      "804/804 [==============================] - 1s 1ms/step - loss: 0.4391 - accuracy: 0.7868\n",
      "Epoch 47/100\n",
      "  1/804 [..............................] - ETA: 0s - loss: 0.5514 - accuracy: 0.7500\n",
      "Epoch 00047: saving model to checkpoints\\weights.47.hdf5\n",
      "804/804 [==============================] - 1s 994us/step - loss: 0.4386 - accuracy: 0.7858\n",
      "Epoch 48/100\n",
      "161/804 [=====>........................] - ETA: 0s - loss: 0.4315 - accuracy: 0.7873\n",
      "Epoch 00048: saving model to checkpoints\\weights.48.hdf5\n",
      "804/804 [==============================] - 1s 980us/step - loss: 0.4383 - accuracy: 0.7848\n",
      "Epoch 49/100\n",
      "376/804 [=============>................] - ETA: 0s - loss: 0.4344 - accuracy: 0.7857\n",
      "Epoch 00049: saving model to checkpoints\\weights.49.hdf5\n",
      "804/804 [==============================] - 1s 965us/step - loss: 0.4384 - accuracy: 0.7857\n",
      "Epoch 50/100\n",
      "597/804 [=====================>........] - ETA: 0s - loss: 0.4403 - accuracy: 0.7830\n",
      "Epoch 00050: saving model to checkpoints\\weights.50.hdf5\n",
      "804/804 [==============================] - 1s 952us/step - loss: 0.4384 - accuracy: 0.7850\n",
      "Epoch 51/100\n",
      "761/804 [===========================>..] - ETA: 0s - loss: 0.4369 - accuracy: 0.7863\n",
      "Epoch 00051: saving model to checkpoints\\weights.51.hdf5\n",
      "804/804 [==============================] - 1s 943us/step - loss: 0.4379 - accuracy: 0.7862\n",
      "Epoch 52/100\n",
      "804/804 [==============================] - 1s 942us/step - loss: 0.4375 - accuracy: 0.7855\n",
      "Epoch 53/100\n",
      "170/804 [=====>........................] - ETA: 0s - loss: 0.4337 - accuracy: 0.7897\n",
      "Epoch 00053: saving model to checkpoints\\weights.53.hdf5\n",
      "804/804 [==============================] - 1s 944us/step - loss: 0.4377 - accuracy: 0.7860\n",
      "Epoch 54/100\n",
      "386/804 [=============>................] - ETA: 0s - loss: 0.4380 - accuracy: 0.7851\n",
      "Epoch 00054: saving model to checkpoints\\weights.54.hdf5\n",
      "804/804 [==============================] - 1s 966us/step - loss: 0.4374 - accuracy: 0.7860\n",
      "Epoch 55/100\n",
      "572/804 [====================>.........] - ETA: 0s - loss: 0.4383 - accuracy: 0.7851\n",
      "Epoch 00055: saving model to checkpoints\\weights.55.hdf5\n",
      "804/804 [==============================] - 1s 921us/step - loss: 0.4370 - accuracy: 0.7863\n",
      "Epoch 56/100\n",
      "750/804 [==========================>...] - ETA: 0s - loss: 0.4373 - accuracy: 0.7862\n",
      "Epoch 00056: saving model to checkpoints\\weights.56.hdf5\n",
      "804/804 [==============================] - 1s 961us/step - loss: 0.4367 - accuracy: 0.7867\n",
      "Epoch 57/100\n",
      "804/804 [==============================] - 1s 949us/step - loss: 0.4367 - accuracy: 0.7872\n",
      "Epoch 58/100\n",
      "151/804 [====>.........................] - ETA: 0s - loss: 0.4339 - accuracy: 0.7866\n",
      "Epoch 00058: saving model to checkpoints\\weights.58.hdf5\n",
      "804/804 [==============================] - 1s 958us/step - loss: 0.4365 - accuracy: 0.7865\n",
      "Epoch 59/100\n",
      "319/804 [==========>...................] - ETA: 0s - loss: 0.4325 - accuracy: 0.7878\n",
      "Epoch 00059: saving model to checkpoints\\weights.59.hdf5\n",
      "804/804 [==============================] - 1s 975us/step - loss: 0.4361 - accuracy: 0.7862\n",
      "Epoch 60/100\n",
      "523/804 [==================>...........] - ETA: 0s - loss: 0.4360 - accuracy: 0.7857\n",
      "Epoch 00060: saving model to checkpoints\\weights.60.hdf5\n",
      "804/804 [==============================] - 1s 971us/step - loss: 0.4359 - accuracy: 0.7869\n",
      "Epoch 61/100\n",
      "757/804 [===========================>..] - ETA: 0s - loss: 0.4349 - accuracy: 0.7879\n",
      "Epoch 00061: saving model to checkpoints\\weights.61.hdf5\n",
      "804/804 [==============================] - 1s 953us/step - loss: 0.4357 - accuracy: 0.7870\n",
      "Epoch 62/100\n",
      "804/804 [==============================] - 1s 955us/step - loss: 0.4360 - accuracy: 0.7876\n",
      "Epoch 63/100\n",
      "103/804 [==>...........................] - ETA: 0s - loss: 0.4389 - accuracy: 0.7843\n",
      "Epoch 00063: saving model to checkpoints\\weights.63.hdf5\n",
      "804/804 [==============================] - 1s 986us/step - loss: 0.4356 - accuracy: 0.7876\n",
      "Epoch 64/100\n",
      "319/804 [==========>...................] - ETA: 0s - loss: 0.4359 - accuracy: 0.7898\n",
      "Epoch 00064: saving model to checkpoints\\weights.64.hdf5\n",
      "804/804 [==============================] - 1s 992us/step - loss: 0.4354 - accuracy: 0.7867\n",
      "Epoch 65/100\n",
      "532/804 [==================>...........] - ETA: 0s - loss: 0.4379 - accuracy: 0.7856\n",
      "Epoch 00065: saving model to checkpoints\\weights.65.hdf5\n",
      "804/804 [==============================] - 1s 983us/step - loss: 0.4350 - accuracy: 0.7879\n",
      "Epoch 66/100\n",
      "721/804 [=========================>....] - ETA: 0s - loss: 0.4329 - accuracy: 0.7893\n",
      "Epoch 00066: saving model to checkpoints\\weights.66.hdf5\n",
      "804/804 [==============================] - 1s 1ms/step - loss: 0.4348 - accuracy: 0.7879\n",
      "Epoch 67/100\n",
      "804/804 [==============================] - 1s 994us/step - loss: 0.4352 - accuracy: 0.7873\n",
      "Epoch 68/100\n",
      "102/804 [==>...........................] - ETA: 0s - loss: 0.4322 - accuracy: 0.7883\n",
      "Epoch 00068: saving model to checkpoints\\weights.68.hdf5\n",
      "804/804 [==============================] - 1s 975us/step - loss: 0.4346 - accuracy: 0.7882\n",
      "Epoch 69/100\n",
      "309/804 [==========>...................] - ETA: 0s - loss: 0.4358 - accuracy: 0.7877\n",
      "Epoch 00069: saving model to checkpoints\\weights.69.hdf5\n",
      "804/804 [==============================] - 1s 982us/step - loss: 0.4346 - accuracy: 0.7867\n",
      "Epoch 70/100\n",
      "482/804 [================>.............] - ETA: 0s - loss: 0.4344 - accuracy: 0.7860\n",
      "Epoch 00070: saving model to checkpoints\\weights.70.hdf5\n",
      "804/804 [==============================] - 1s 977us/step - loss: 0.4346 - accuracy: 0.7872\n",
      "Epoch 71/100\n",
      "698/804 [=========================>....] - ETA: 0s - loss: 0.4347 - accuracy: 0.7892\n",
      "Epoch 00071: saving model to checkpoints\\weights.71.hdf5\n",
      "804/804 [==============================] - 1s 961us/step - loss: 0.4348 - accuracy: 0.7881\n",
      "Epoch 72/100\n",
      "804/804 [==============================] - 1s 940us/step - loss: 0.4342 - accuracy: 0.7883\n",
      "Epoch 73/100\n",
      "106/804 [==>...........................] - ETA: 0s - loss: 0.4320 - accuracy: 0.7869\n",
      "Epoch 00073: saving model to checkpoints\\weights.73.hdf5\n",
      "804/804 [==============================] - 1s 1ms/step - loss: 0.4336 - accuracy: 0.7897: 0s - loss: 0.4326 - accuracy: \n",
      "Epoch 74/100\n",
      "257/804 [========>.....................] - ETA: 0s - loss: 0.4313 - accuracy: 0.7838\n",
      "Epoch 00074: saving model to checkpoints\\weights.74.hdf5\n",
      "804/804 [==============================] - 1s 1ms/step - loss: 0.4340 - accuracy: 0.7876\n",
      "Epoch 75/100\n",
      "481/804 [================>.............] - ETA: 0s - loss: 0.4316 - accuracy: 0.7888\n",
      "Epoch 00075: saving model to checkpoints\\weights.75.hdf5\n",
      "804/804 [==============================] - 1s 966us/step - loss: 0.4335 - accuracy: 0.7879\n",
      "Epoch 76/100\n"
     ]
    },
    {
     "name": "stdout",
     "output_type": "stream",
     "text": [
      "648/804 [=======================>......] - ETA: 0s - loss: 0.4350 - accuracy: 0.7879\n",
      "Epoch 00076: saving model to checkpoints\\weights.76.hdf5\n",
      "804/804 [==============================] - 1s 955us/step - loss: 0.4339 - accuracy: 0.7885\n",
      "Epoch 77/100\n",
      "804/804 [==============================] - 1s 922us/step - loss: 0.4338 - accuracy: 0.7876\n",
      "Epoch 78/100\n",
      " 53/804 [>.............................] - ETA: 0s - loss: 0.4249 - accuracy: 0.7895\n",
      "Epoch 00078: saving model to checkpoints\\weights.78.hdf5\n",
      "804/804 [==============================] - 1s 965us/step - loss: 0.4334 - accuracy: 0.7884\n",
      "Epoch 79/100\n",
      "270/804 [=========>....................] - ETA: 0s - loss: 0.4363 - accuracy: 0.7860\n",
      "Epoch 00079: saving model to checkpoints\\weights.79.hdf5\n",
      "804/804 [==============================] - 1s 957us/step - loss: 0.4335 - accuracy: 0.7881\n",
      "Epoch 80/100\n",
      "438/804 [===============>..............] - ETA: 0s - loss: 0.4355 - accuracy: 0.7865\n",
      "Epoch 00080: saving model to checkpoints\\weights.80.hdf5\n",
      "804/804 [==============================] - 1s 951us/step - loss: 0.4333 - accuracy: 0.7889\n",
      "Epoch 81/100\n",
      "647/804 [=======================>......] - ETA: 0s - loss: 0.4314 - accuracy: 0.7899\n",
      "Epoch 00081: saving model to checkpoints\\weights.81.hdf5\n",
      "804/804 [==============================] - 1s 989us/step - loss: 0.4334 - accuracy: 0.7883\n",
      "Epoch 82/100\n",
      "804/804 [==============================] - 1s 931us/step - loss: 0.4331 - accuracy: 0.7877\n",
      "Epoch 83/100\n",
      " 53/804 [>.............................] - ETA: 0s - loss: 0.4230 - accuracy: 0.8084\n",
      "Epoch 00083: saving model to checkpoints\\weights.83.hdf5\n",
      "804/804 [==============================] - 1s 975us/step - loss: 0.4329 - accuracy: 0.7883\n",
      "Epoch 84/100\n",
      "222/804 [=======>......................] - ETA: 0s - loss: 0.4352 - accuracy: 0.7891\n",
      "Epoch 00084: saving model to checkpoints\\weights.84.hdf5\n",
      "804/804 [==============================] - 1s 953us/step - loss: 0.4328 - accuracy: 0.7886\n",
      "Epoch 85/100\n",
      "429/804 [===============>..............] - ETA: 0s - loss: 0.4361 - accuracy: 0.7872\n",
      "Epoch 00085: saving model to checkpoints\\weights.85.hdf5\n",
      "804/804 [==============================] - 1s 960us/step - loss: 0.4328 - accuracy: 0.7886\n",
      "Epoch 86/100\n",
      "636/804 [======================>.......] - ETA: 0s - loss: 0.4353 - accuracy: 0.7867\n",
      "Epoch 00086: saving model to checkpoints\\weights.86.hdf5\n",
      "804/804 [==============================] - 1s 966us/step - loss: 0.4328 - accuracy: 0.7889\n",
      "Epoch 87/100\n",
      "804/804 [==============================] - 1s 1ms/step - loss: 0.4328 - accuracy: 0.7886\n",
      "Epoch 88/100\n",
      "  1/804 [..............................] - ETA: 0s - loss: 0.5558 - accuracy: 0.6562\n",
      "Epoch 00088: saving model to checkpoints\\weights.88.hdf5\n",
      "804/804 [==============================] - 1s 953us/step - loss: 0.4325 - accuracy: 0.7885\n",
      "Epoch 89/100\n",
      "214/804 [======>.......................] - ETA: 0s - loss: 0.4253 - accuracy: 0.7945\n",
      "Epoch 00089: saving model to checkpoints\\weights.89.hdf5\n",
      "804/804 [==============================] - 1s 977us/step - loss: 0.4323 - accuracy: 0.7878\n",
      "Epoch 90/100\n",
      "429/804 [===============>..............] - ETA: 0s - loss: 0.4319 - accuracy: 0.7873\n",
      "Epoch 00090: saving model to checkpoints\\weights.90.hdf5\n",
      "804/804 [==============================] - 1s 974us/step - loss: 0.4324 - accuracy: 0.7882\n",
      "Epoch 91/100\n",
      "590/804 [=====================>........] - ETA: 0s - loss: 0.4317 - accuracy: 0.7892\n",
      "Epoch 00091: saving model to checkpoints\\weights.91.hdf5\n",
      "804/804 [==============================] - 1s 954us/step - loss: 0.4321 - accuracy: 0.7898\n",
      "Epoch 92/100\n",
      "804/804 [==============================] - 1s 938us/step - loss: 0.4319 - accuracy: 0.7889\n",
      "Epoch 93/100\n",
      "  1/804 [..............................] - ETA: 0s - loss: 0.4027 - accuracy: 0.8125\n",
      "Epoch 00093: saving model to checkpoints\\weights.93.hdf5\n",
      "804/804 [==============================] - 1s 1ms/step - loss: 0.4322 - accuracy: 0.7892\n",
      "Epoch 94/100\n",
      "206/804 [======>.......................] - ETA: 0s - loss: 0.4308 - accuracy: 0.7893\n",
      "Epoch 00094: saving model to checkpoints\\weights.94.hdf5\n",
      "804/804 [==============================] - 1s 970us/step - loss: 0.4318 - accuracy: 0.7893\n",
      "Epoch 95/100\n",
      "373/804 [============>.................] - ETA: 0s - loss: 0.4274 - accuracy: 0.7925\n",
      "Epoch 00095: saving model to checkpoints\\weights.95.hdf5\n",
      "804/804 [==============================] - 1s 955us/step - loss: 0.4323 - accuracy: 0.7887\n",
      "Epoch 96/100\n",
      "581/804 [====================>.........] - ETA: 0s - loss: 0.4284 - accuracy: 0.7919\n",
      "Epoch 00096: saving model to checkpoints\\weights.96.hdf5\n",
      "804/804 [==============================] - 1s 965us/step - loss: 0.4318 - accuracy: 0.7892\n",
      "Epoch 97/100\n",
      "804/804 [==============================] - 1s 944us/step - loss: 0.4319 - accuracy: 0.7891\n",
      "Epoch 98/100\n",
      "  1/804 [..............................] - ETA: 0s - loss: 0.4298 - accuracy: 0.7188\n",
      "Epoch 00098: saving model to checkpoints\\weights.98.hdf5\n",
      "804/804 [==============================] - 1s 970us/step - loss: 0.4316 - accuracy: 0.7896\n",
      "Epoch 99/100\n",
      "155/804 [====>.........................] - ETA: 0s - loss: 0.4328 - accuracy: 0.7899\n",
      "Epoch 00099: saving model to checkpoints\\weights.99.hdf5\n",
      "804/804 [==============================] - 1s 991us/step - loss: 0.4319 - accuracy: 0.7888\n",
      "Epoch 100/100\n",
      "384/804 [=============>................] - ETA: 0s - loss: 0.4302 - accuracy: 0.7871\n",
      "Epoch 00100: saving model to checkpoints\\weights.100.hdf5\n",
      "804/804 [==============================] - 1s 957us/step - loss: 0.4317 - accuracy: 0.7888\n"
     ]
    }
   ],
   "source": [
    "# Train the model\n",
    "cp_callback = ModelCheckpoint(\n",
    "    filepath=checkpoint_path,\n",
    "    verbose=1,\n",
    "    save_weights_only=True,\n",
    "    save_freq=1000)\n",
    "\n",
    "# Train the model\n",
    "fit_model = nn.fit(X_train_scaled,y_train,epochs=100,callbacks=[cp_callback])"
   ]
  },
  {
   "cell_type": "code",
   "execution_count": 28,
   "metadata": {},
   "outputs": [
    {
     "name": "stdout",
     "output_type": "stream",
     "text": [
      "268/268 - 0s - loss: 0.4741 - accuracy: 0.7717\n",
      "Loss: 0.4741383492946625, Accuracy: 0.7716618180274963\n"
     ]
    }
   ],
   "source": [
    "# Evaluate the model using the test data\n",
    "model_loss, model_accuracy = nn.evaluate(X_test_scaled,y_test,verbose=2)\n",
    "print(f\"Loss: {model_loss}, Accuracy: {model_accuracy}\")"
   ]
  },
  {
   "cell_type": "code",
   "execution_count": 29,
   "metadata": {},
   "outputs": [
    {
     "data": {
      "text/plain": [
       "<matplotlib.axes._subplots.AxesSubplot at 0x2645cbce348>"
      ]
     },
     "execution_count": 29,
     "metadata": {},
     "output_type": "execute_result"
    },
    {
     "data": {
      "image/png": "[encoded data removed]",
      "text/plain": [
       "<Figure size 432x288 with 1 Axes>"
      ]
     },
     "metadata": {
      "needs_background": "light"
     },
     "output_type": "display_data"
    },
    {
     "data": {
      "image/png": "[encoded data removed]",
      "text/plain": [
       "<Figure size 432x288 with 1 Axes>"
      ]
     },
     "metadata": {
      "needs_background": "light"
     },
     "output_type": "display_data"
    }
   ],
   "source": [
    "# Create a DataFrame containing training history\n",
    "history_df = pd.DataFrame(fit_model.history, index=range(1,len(fit_model.history[\"loss\"])+1))\n",
    "\n",
    "# Plot the loss\n",
    "# score the performance of the model through each iteration and epoch by evaluating the inaccuracy of a single input.\n",
    "history_df.plot(y=\"loss\")\n",
    "# Plot the accuracy\n",
    "# the higher the better\n",
    "history_df.plot(y=\"accuracy\")"
   ]
  },
  {
   "cell_type": "code",
   "execution_count": 30,
   "metadata": {},
   "outputs": [],
   "source": [
    "# Export our model to HDF5 file\n",
    "nn.save(\"AlphabetSoupCharity.h5\")"
   ]
  },
  {
   "cell_type": "code",
   "execution_count": null,
   "metadata": {},
   "outputs": [],
   "source": []
  }
 ],
 "metadata": {
  "kernelspec": {
   "display_name": "Python 3",
   "language": "python",
   "name": "python3"
  },
  "language_info": {
   "codemirror_mode": {
    "name": "ipython",
    "version": 3
   },
   "file_extension": ".py",
   "mimetype": "text/x-python",
   "name": "python",
   "nbconvert_exporter": "python",
   "pygments_lexer": "ipython3",
   "version": "3.7.6"
  }
 },
 "nbformat": 4,
 "nbformat_minor": 2
}
